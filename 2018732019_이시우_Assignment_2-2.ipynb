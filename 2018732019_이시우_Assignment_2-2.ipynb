{
  "nbformat": 4,
  "nbformat_minor": 0,
  "metadata": {
    "colab": {
      "provenance": [],
      "collapsed_sections": []
    },
    "kernelspec": {
      "name": "python3",
      "display_name": "Python 3"
    },
    "language_info": {
      "name": "python"
    }
  },
  "cells": [
    {
      "cell_type": "markdown",
      "metadata": {
        "id": "HI3htaMJOLnV"
      },
      "source": [
        "#**Assignment 2 - Python 기초 복습하기 1**\n",
        "---\n",
        "By 이기백  \n",
        "인공지능응용 두 번째 과제\n",
        "\n",
        "## Technologies Used\n",
        "* Google Colab\n",
        "* Jupyter Notebook\n",
        "* Markdown\n",
        "* Python\n",
        "\n",
        "## Description\n",
        "이 과제에서는 `Python` 기초 문법을 복습합니다.  \n",
        "이 문서는 Google Colab에서 Markdown 문법을 이용해 작성되었습니다.\n",
        "\n",
        "## Setup/Installation Requirements\n",
        "* KLAS에서 과제의 첨부파일(노트)을 다운로드\n",
        "* 구글드라이브에 노트 업로드\n",
        "  - 노트의 파일명을 **학번\\_이름\\_Assignment_2.ipynb**로 변경\n",
        "* _Colab_ 에서 해당 노트에 Problem 해결\n",
        "* 해당 노트를 다운로드한 후 KLAS에서 과제로 제출\n",
        "\n"
      ]
    },
    {
      "cell_type": "markdown",
      "metadata": {
        "id": "6Y7nwpqZdmQ1"
      },
      "source": [
        "## Problem 1\n",
        "* 강의자료 예제 실행해보기  \n",
        "  + 강의자료의 **Python 기초 문법** 예제들을 이 아래에 코드블럭으로 재작성하고 실행\n",
        "\n"
      ]
    },
    {
      "cell_type": "code",
      "source": [
        "!pip install yfinance\n",
        "from google.colab import drive\n",
        "drive.mount('/content/drive')"
      ],
      "metadata": {
        "id": "iUFUwzxDl56v",
        "colab": {
          "base_uri": "https://localhost:8080/"
        },
        "outputId": "a98ff544-5d6f-4cf4-b270-131220b1acbc"
      },
      "execution_count": 5,
      "outputs": [
        {
          "output_type": "stream",
          "name": "stdout",
          "text": [
            "Looking in indexes: https://pypi.org/simple, https://us-python.pkg.dev/colab-wheels/public/simple/\n",
            "Collecting yfinance\n",
            "  Downloading yfinance-0.1.74-py2.py3-none-any.whl (27 kB)\n",
            "Requirement already satisfied: multitasking>=0.0.7 in /usr/local/lib/python3.7/dist-packages (from yfinance) (0.0.11)\n",
            "Requirement already satisfied: pandas>=0.24.0 in /usr/local/lib/python3.7/dist-packages (from yfinance) (1.3.5)\n",
            "Collecting requests>=2.26\n",
            "  Downloading requests-2.28.1-py3-none-any.whl (62 kB)\n",
            "\u001b[K     |████████████████████████████████| 62 kB 1.1 MB/s \n",
            "\u001b[?25hRequirement already satisfied: lxml>=4.5.1 in /usr/local/lib/python3.7/dist-packages (from yfinance) (4.9.1)\n",
            "Requirement already satisfied: numpy>=1.15 in /usr/local/lib/python3.7/dist-packages (from yfinance) (1.21.6)\n",
            "Requirement already satisfied: python-dateutil>=2.7.3 in /usr/local/lib/python3.7/dist-packages (from pandas>=0.24.0->yfinance) (2.8.2)\n",
            "Requirement already satisfied: pytz>=2017.3 in /usr/local/lib/python3.7/dist-packages (from pandas>=0.24.0->yfinance) (2022.2.1)\n",
            "Requirement already satisfied: six>=1.5 in /usr/local/lib/python3.7/dist-packages (from python-dateutil>=2.7.3->pandas>=0.24.0->yfinance) (1.15.0)\n",
            "Requirement already satisfied: urllib3<1.27,>=1.21.1 in /usr/local/lib/python3.7/dist-packages (from requests>=2.26->yfinance) (1.24.3)\n",
            "Requirement already satisfied: certifi>=2017.4.17 in /usr/local/lib/python3.7/dist-packages (from requests>=2.26->yfinance) (2022.6.15)\n",
            "Requirement already satisfied: idna<4,>=2.5 in /usr/local/lib/python3.7/dist-packages (from requests>=2.26->yfinance) (2.10)\n",
            "Requirement already satisfied: charset-normalizer<3,>=2 in /usr/local/lib/python3.7/dist-packages (from requests>=2.26->yfinance) (2.1.1)\n",
            "Installing collected packages: requests, yfinance\n",
            "  Attempting uninstall: requests\n",
            "    Found existing installation: requests 2.23.0\n",
            "    Uninstalling requests-2.23.0:\n",
            "      Successfully uninstalled requests-2.23.0\n",
            "Successfully installed requests-2.28.1 yfinance-0.1.74\n",
            "Mounted at /content/drive\n"
          ]
        }
      ]
    },
    {
      "cell_type": "code",
      "source": [
        "'''\n",
        "코스피 종가 데이터를 자동으로 가져와 그래프로 그려주는 스크립트 입니다.\n",
        "pandas_datareader, yfinance, matplotlib 라이브러리를 설치해줘야 합니다.\n",
        "* 설치방법 (터미널 기준)\n",
        "pip install pandas_datareder\n",
        "pip install yfinance\n",
        "pip install matplotlib\n",
        "'''\n",
        "\n",
        "from pandas_datareader import data as pdr  \n",
        "from matplotlib import pyplot as plt\n",
        "import yfinance as yf\n",
        "yf.pdr_override()\n",
        "\n",
        "df = pdr.get_data_yahoo(\"^KS11\") \n",
        "y_values = df['Adj Close']\n",
        "x_values = range(len(y_values))\n",
        "\n",
        "plt.plot(x_values,y_values)\n",
        "plt.show()"
      ],
      "metadata": {
        "colab": {
          "base_uri": "https://localhost:8080/",
          "height": 283
        },
        "id": "6plKFxTDxXpM",
        "outputId": "2cba3f22-22c3-4225-dbe6-d28da0690061"
      },
      "execution_count": 6,
      "outputs": [
        {
          "output_type": "stream",
          "name": "stdout",
          "text": [
            "\r[*********************100%***********************]  1 of 1 completed\n"
          ]
        },
        {
          "output_type": "display_data",
          "data": {
            "text/plain": [
              "<Figure size 432x288 with 1 Axes>"
            ],
            "image/png": "[encoded data removed]"
          },
          "metadata": {
            "needs_background": "light"
          }
        }
      ]
    },
    {
      "cell_type": "code",
      "source": [
        "''' \n",
        "다음 헤드라인 뉴스를 자동으로 가져오는 스크립트 입니다.\n",
        "별도 라이브러리를 설치하지 않아도 실행 가능합니다.\n",
        "'''\n",
        "import urllib.request\n",
        "import html.parser\n",
        "u = 'http://www.daum.net'\n",
        "f = urllib.request.urlopen(u)\n",
        "contents = str(f.read().decode('utf-8'))\n",
        "f.close()\n",
        "i,k = 0,0\n",
        "\n",
        "# infinite loop\n",
        "while True:\n",
        "    k = k + 1\n",
        "    i = contents.find('뉴스1탭_텍스트소재', i+1)\n",
        "    if i == -1 or k > 20:\n",
        "        break\n",
        "    i = contents.find('\">', i+1)\n",
        "    j = contents.find('</a>', i+1)\n",
        "    data = contents[i+2:j]\n",
        "    print(html.unescape(data))"
      ],
      "metadata": {
        "id": "Ua5wj_t4xYkl"
      },
      "execution_count": 7,
      "outputs": []
    },
    {
      "cell_type": "code",
      "source": [
        "print('hello world')"
      ],
      "metadata": {
        "colab": {
          "base_uri": "https://localhost:8080/"
        },
        "id": "hwuV6figxbNk",
        "outputId": "655bff93-3ca6-4811-ad03-8ba920fef5c5"
      },
      "execution_count": 8,
      "outputs": [
        {
          "output_type": "stream",
          "name": "stdout",
          "text": [
            "hello world\n"
          ]
        }
      ]
    },
    {
      "cell_type": "code",
      "source": [
        "def helloworld():\n",
        "  print('Hello world')\n",
        "\n",
        "helloworld()"
      ],
      "metadata": {
        "colab": {
          "base_uri": "https://localhost:8080/"
        },
        "id": "0R1SUVWFxfd8",
        "outputId": "dca06f86-73b0-4a88-df38-d5e252cc6688"
      },
      "execution_count": 12,
      "outputs": [
        {
          "output_type": "stream",
          "name": "stdout",
          "text": [
            "Hello world\n"
          ]
        }
      ]
    },
    {
      "cell_type": "code",
      "source": [
        "print('start')\n",
        "for i in range(10):\n",
        "  if i>5:\n",
        "    print('i=%d > 5' % i)\n",
        "  elif i<5:\n",
        "    print('i = %d < 5' %i)\n",
        "  else:\n",
        "    print('i=%d=5' %i)\n",
        "print('end')"
      ],
      "metadata": {
        "colab": {
          "base_uri": "https://localhost:8080/"
        },
        "id": "sioYGSJzxnvJ",
        "outputId": "2bade2e4-edd3-439c-c29d-4b06e141c3b5"
      },
      "execution_count": 13,
      "outputs": [
        {
          "output_type": "stream",
          "name": "stdout",
          "text": [
            "start\n",
            "i = 0 < 5\n",
            "i = 1 < 5\n",
            "i = 2 < 5\n",
            "i = 3 < 5\n",
            "i = 4 < 5\n",
            "i=5=5\n",
            "i=6 > 5\n",
            "i=7 > 5\n",
            "i=8 > 5\n",
            "i=9 > 5\n",
            "end\n"
          ]
        }
      ]
    },
    {
      "cell_type": "code",
      "source": [
        "def function1():\n",
        "  print('   function start')\n",
        "  print('   function end')\n",
        "print('script start')\n",
        "function1()\n",
        "print('script end')"
      ],
      "metadata": {
        "colab": {
          "base_uri": "https://localhost:8080/"
        },
        "id": "DP2wbonSxjwh",
        "outputId": "b1beeaf4-ee14-4ac6-ff30-b64dc0934a06"
      },
      "execution_count": 14,
      "outputs": [
        {
          "output_type": "stream",
          "name": "stdout",
          "text": [
            "script start\n",
            "   function start\n",
            "   function end\n",
            "script end\n"
          ]
        }
      ]
    },
    {
      "cell_type": "code",
      "source": [
        "a = input()\n",
        "print(a)"
      ],
      "metadata": {
        "colab": {
          "base_uri": "https://localhost:8080/"
        },
        "id": "BSol3ylwyAQF",
        "outputId": "65cc07c7-2e80-4367-ec61-521102479f5c"
      },
      "execution_count": 15,
      "outputs": [
        {
          "output_type": "stream",
          "name": "stdout",
          "text": [
            "10\n",
            "10\n"
          ]
        }
      ]
    },
    {
      "cell_type": "code",
      "source": [
        "i = 4\n",
        "j = 4.5\n",
        "k = 'abc'\n",
        "print('i=%d j=%.1f k=%s' % (i,j,k))"
      ],
      "metadata": {
        "colab": {
          "base_uri": "https://localhost:8080/"
        },
        "id": "cr8bKA1tyCDF",
        "outputId": "dc5bcfab-c5eb-48b0-8802-36f7946d593e"
      },
      "execution_count": 16,
      "outputs": [
        {
          "output_type": "stream",
          "name": "stdout",
          "text": [
            "i=4 j=4.5 k=abc\n"
          ]
        }
      ]
    },
    {
      "cell_type": "code",
      "source": [],
      "metadata": {
        "id": "pES2IUFOyIi6"
      },
      "execution_count": null,
      "outputs": []
    },
    {
      "cell_type": "markdown",
      "metadata": {
        "id": "dZCjgtqsdn2j"
      },
      "source": [
        "## Problem 2\n",
        "* 프로그램 작성해보기\n",
        "  + 제시된 출력결과를 보고, 아래 미완성 프로그램을 완성\n",
        "\n"
      ]
    },
    {
      "cell_type": "code",
      "source": [
        "name = input(\"What is your name?\")\n",
        "age = input(\"How old are you?\")\n",
        "grade = input(\"What is your grade point average?\")\n",
        "\n",
        "print('Your name is %s' % name)\n",
        "print('Your age is %s' % age)\n",
        "print('Your grade is %s' % grade)\n"
      ],
      "metadata": {
        "colab": {
          "base_uri": "https://localhost:8080/"
        },
        "id": "iK0FePibwSnX",
        "outputId": "f28d9402-0cdc-4e5f-b827-e3aa98eb3b17"
      },
      "execution_count": 18,
      "outputs": [
        {
          "output_type": "stream",
          "name": "stdout",
          "text": [
            "What is your name?Kim\n",
            "How old are you?20\n",
            "What is your grade point average?4.5\n",
            "Your name is Kim\n",
            "Your age is 20\n",
            "Your grade is 4.5\n"
          ]
        }
      ]
    },
    {
      "cell_type": "code",
      "source": [],
      "metadata": {
        "id": "cwvXTf-5yX4f"
      },
      "execution_count": null,
      "outputs": []
    },
    {
      "cell_type": "code",
      "source": [],
      "metadata": {
        "id": "v2NWf4KOyNLt"
      },
      "execution_count": null,
      "outputs": []
    },
    {
      "cell_type": "markdown",
      "metadata": {
        "id": "PqXDUnCkfIUn"
      },
      "source": [
        "> 출력결과\n",
        "\n",
        "What is your name? (키보드입력)Kim  \n",
        "How old are you? (키보드입력)20  \n",
        "What is your grade point average? (키보드입력)4.5  \n",
        "Your name is Kim  \n",
        "Your age is 20  \n",
        "Your grade is 4.5  "
      ]
    },
    {
      "cell_type": "markdown",
      "metadata": {
        "id": "pWoLA53bdr6u"
      },
      "source": [
        "## Known Bugs\n",
        "* 알려진 <u>버그</u> 없음\n",
        "\n",
        "## License\n",
        ">[MIT License](https://opensource.org/licenses/MIT)\n",
        "\n",
        "Copyright (c) 2021 Ki-Baek Lee"
      ]
    }
  ]
}